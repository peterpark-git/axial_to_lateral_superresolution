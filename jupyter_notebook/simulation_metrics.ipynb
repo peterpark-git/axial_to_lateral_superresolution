{
 "cells": [
  {
   "cell_type": "code",
   "execution_count": 1,
   "metadata": {},
   "outputs": [
    {
     "name": "stderr",
     "output_type": "stream",
     "text": [
      "/tmp/ipykernel_4092679/2995932685.py:9: DeprecationWarning: Please import `rotate` from the `scipy.ndimage` namespace; the `scipy.ndimage.interpolation` namespace is deprecated and will be removed in SciPy 2.0.0.\n",
      "  from scipy.ndimage.interpolation import rotate\n"
     ]
    }
   ],
   "source": [
    "import os\n",
    "import sys\n",
    "module_path = os.path.abspath(os.path.join('..'))\n",
    "if module_path not in sys.path:\n",
    "    sys.path.append(module_path)\n",
    "\n",
    "from util import util\n",
    "from data import base_dataset\n",
    "from scipy.ndimage.interpolation import rotate\n",
    "from data.image_folder import make_dataset\n",
    "from skimage import io \n",
    "import stackview\n",
    "import numpy as np\n",
    "import matplotlib.pyplot as plt\n"
   ]
  },
  {
   "cell_type": "code",
   "execution_count": 2,
   "metadata": {},
   "outputs": [],
   "source": [
    "GT_path = '/scratch/park/data/simulation_data/haystack/6000-lines-blurred-by-gaublur-std-4/GT'\n",
    "source_path = '/scratch/park/data/simulation_data/haystack/6000-lines-blurred-by-gaublur-std-4/blurred'\n",
    "output_path = '/scratch/park/results/DeepClarity/Simulation_UNET-DLG-5-lvl_exp_241020-233715/test_23269_iter23269'\n",
    "GT_dir = make_dataset(GT_path)[0]\n",
    "GT_vol = io.imread(GT_dir)\n",
    "\n",
    "output_dir = make_dataset(output_path)[0]\n",
    "output_vol = io.imread(output_dir)\n",
    "\n",
    "source_dir = make_dataset(source_path)[0]\n",
    "source_vol = io.imread(source_dir)"
   ]
  },
  {
   "cell_type": "code",
   "execution_count": 3,
   "metadata": {},
   "outputs": [
    {
     "name": "stdout",
     "output_type": "stream",
     "text": [
      "21.88501164219099\n"
     ]
    }
   ],
   "source": [
    "data_range = 2**16-1\n",
    "psnr_source = util.get_psnr(source_vol, GT_vol, data_range)\n",
    "print (psnr_source)"
   ]
  },
  {
   "cell_type": "code",
   "execution_count": 4,
   "metadata": {},
   "outputs": [
    {
     "name": "stdout",
     "output_type": "stream",
     "text": [
      "(700, 700)\n"
     ]
    }
   ],
   "source": [
    "source_mip = np.amax(source_vol[500:520,:,:],axis=0)\n",
    "output_mip = np.amax(output_vol[500:520,:,:],axis=0)\n",
    "gt_mip = np.amax(GT_vol[500:520,:,:],axis=0)\n",
    "\n",
    "print (source_mip.shape)"
   ]
  },
  {
   "cell_type": "code",
   "execution_count": 5,
   "metadata": {},
   "outputs": [],
   "source": [
    "source_psnr_list_xy = []\n",
    "output_psnr_list_xy = []\n",
    "for i in range(50):\n",
    "    start_index = np.random.randint(1,source_vol.shape[0]-20)\n",
    "    end_index = start_index + 20 \n",
    "\n",
    "    source_mip = np.amax(source_vol[start_index:end_index,:,:], axis=0)\n",
    "    output_mip =  np.amax(output_vol[start_index:end_index,:,:], axis=0)\n",
    "    gt_mip = np.amax(GT_vol[start_index:end_index,:,:], axis=0)\n",
    "\n",
    "    data_range = 2**16-1\n",
    "    psnr_source = util.get_psnr(source_mip, gt_mip, data_range)\n",
    "    psnr_output = util.get_psnr(output_mip, gt_mip, data_range)\n",
    "    source_psnr_list_xy.append(psnr_source)\n",
    "    output_psnr_list_xy.append(psnr_output)"
   ]
  },
  {
   "cell_type": "code",
   "execution_count": 6,
   "metadata": {},
   "outputs": [],
   "source": [
    "source_psnr_list_xz = []\n",
    "output_psnr_list_xz = []\n",
    "for i in range(50):\n",
    "    start_index = np.random.randint(1,source_vol.shape[0]-20)\n",
    "    end_index = start_index + 20 \n",
    "\n",
    "    source_mip = np.amax(source_vol[:,start_index:end_index,:], axis=1)\n",
    "    output_mip =  np.amax(output_vol[:,start_index:end_index,:], axis=1)\n",
    "    gt_mip = np.amax(GT_vol[:, start_index:end_index,:], axis=1)\n",
    "\n",
    "    data_range = 2**16-1\n",
    "    psnr_source = util.get_psnr(source_mip, gt_mip, data_range)\n",
    "    psnr_output = util.get_psnr(output_mip, gt_mip, data_range)\n",
    "    source_psnr_list_xz.append(psnr_source)\n",
    "    output_psnr_list_xz.append(psnr_output)"
   ]
  },
  {
   "cell_type": "code",
   "execution_count": 7,
   "metadata": {},
   "outputs": [
    {
     "data": {
      "text/plain": [
       "(700, 700)"
      ]
     },
     "execution_count": 7,
     "metadata": {},
     "output_type": "execute_result"
    }
   ],
   "source": [
    "source_mip.shape"
   ]
  },
  {
   "cell_type": "code",
   "execution_count": 13,
   "metadata": {},
   "outputs": [
    {
     "name": "stderr",
     "output_type": "stream",
     "text": [
      "/tmp/ipykernel_4092679/1598304942.py:4: MatplotlibDeprecationWarning: The 'labels' parameter of boxplot() has been renamed 'tick_labels' since Matplotlib 3.9; support for the old name will be dropped in 3.11.\n",
      "  plt.boxplot(data, labels=['Input lateral', 'Input axial', 'Output lateral', 'output axial'])\n"
     ]
    },
    {
     "data": {
      "image/png": "[encoded data removed]",
      "text/plain": [
       "<Figure size 640x480 with 1 Axes>"
      ]
     },
     "metadata": {},
     "output_type": "display_data"
    }
   ],
   "source": [
    "data = [source_psnr_list_xy, source_psnr_list_xz, output_psnr_list_xy, output_psnr_list_xz]\n",
    "\n",
    "# Create the box plot\n",
    "plt.boxplot(data, labels=['Input lateral', 'Input axial', 'Output lateral', 'output axial'])\n",
    "\n",
    "# Add a title and labels\n",
    "plt.title('PSNR Comparison of MIPs')\n",
    "plt.ylabel('PSNR (dB)')\n",
    "plt.savefig('boxplot_simulation.png', dpi=300)\n",
    "\n",
    "# Show the plot\n",
    "plt.show()\n"
   ]
  },
  {
   "cell_type": "code",
   "execution_count": 9,
   "metadata": {},
   "outputs": [],
   "source": [
    "def calculate_psnr(vol, GT_vol):\n",
    "    source_psnr_list = []\n",
    "    for i in range(20):\n",
    "        start_index = np.random.randint(1,source_vol.shape[0]-20)\n",
    "        end_index = start_index + 20 \n",
    "\n",
    "        source_mip = np.amax(source_vol[start_index:end_index,:,:], axis=0)\n",
    "        gt_mip = np.amax(GT_vol[start_index:end_index,:,:], axis=0)\n",
    "\n",
    "        data_range = 2**16-1\n",
    "        psnr_output = util.get_psnr(test_mip, gt_mip, data_range)\n",
    "        psnr_list.append(psnr_output)\n",
    "        \n",
    "    return psnr_list\n"
   ]
  },
  {
   "cell_type": "code",
   "execution_count": 10,
   "metadata": {},
   "outputs": [
    {
     "ename": "NameError",
     "evalue": "name 'test_mip' is not defined",
     "output_type": "error",
     "traceback": [
      "\u001b[0;31m---------------------------------------------------------------------------\u001b[0m",
      "\u001b[0;31mNameError\u001b[0m                                 Traceback (most recent call last)",
      "Cell \u001b[0;32mIn[10], line 1\u001b[0m\n\u001b[0;32m----> 1\u001b[0m source_pnsr_list \u001b[38;5;241m=\u001b[39m \u001b[43mcalculate_psnr\u001b[49m\u001b[43m(\u001b[49m\u001b[43msource_vol\u001b[49m\u001b[43m,\u001b[49m\u001b[43m \u001b[49m\u001b[43mGT_vol\u001b[49m\u001b[43m)\u001b[49m\n",
      "Cell \u001b[0;32mIn[9], line 11\u001b[0m, in \u001b[0;36mcalculate_psnr\u001b[0;34m(vol, GT_vol)\u001b[0m\n\u001b[1;32m      8\u001b[0m     gt_mip \u001b[38;5;241m=\u001b[39m np\u001b[38;5;241m.\u001b[39mamax(GT_vol[start_index:end_index,:,:], axis\u001b[38;5;241m=\u001b[39m\u001b[38;5;241m0\u001b[39m)\n\u001b[1;32m     10\u001b[0m     data_range \u001b[38;5;241m=\u001b[39m \u001b[38;5;241m2\u001b[39m\u001b[38;5;241m*\u001b[39m\u001b[38;5;241m*\u001b[39m\u001b[38;5;241m16\u001b[39m\u001b[38;5;241m-\u001b[39m\u001b[38;5;241m1\u001b[39m\n\u001b[0;32m---> 11\u001b[0m     psnr_output \u001b[38;5;241m=\u001b[39m util\u001b[38;5;241m.\u001b[39mget_psnr(\u001b[43mtest_mip\u001b[49m, gt_mip, data_range)\n\u001b[1;32m     12\u001b[0m     psnr_list\u001b[38;5;241m.\u001b[39mappend(psnr_output)\n\u001b[1;32m     14\u001b[0m \u001b[38;5;28;01mreturn\u001b[39;00m psnr_list\n",
      "\u001b[0;31mNameError\u001b[0m: name 'test_mip' is not defined"
     ]
    }
   ],
   "source": [
    "source_pnsr_list = calculate_psnr(source_vol, GT_vol)\n"
   ]
  },
  {
   "cell_type": "code",
   "execution_count": null,
   "metadata": {},
   "outputs": [],
   "source": [
    "data_range = 2**16-1\n",
    "psnr_output = util.get_psnr(output_mip, gt_mip, data_range)\n",
    "print (psnr_output)"
   ]
  },
  {
   "cell_type": "code",
   "execution_count": 14,
   "metadata": {},
   "outputs": [
    {
     "name": "stdout",
     "output_type": "stream",
     "text": [
      "20.900838042588646\n"
     ]
    }
   ],
   "source": [
    "data_range = 2**16-1\n",
    "psnr_output = util.get_psnr(output_mip, gt_mip, data_range)\n",
    "print (psnr_output)"
   ]
  },
  {
   "cell_type": "code",
   "execution_count": 6,
   "metadata": {},
   "outputs": [
    {
     "name": "stdout",
     "output_type": "stream",
     "text": [
      "24.901185423851686\n"
     ]
    }
   ],
   "source": [
    "data_range = 2**16-1\n",
    "psnr_output = util.get_psnr(output_vol, GT_vol, data_range)\n",
    "print (psnr_output)"
   ]
  },
  {
   "cell_type": "code",
   "execution_count": 7,
   "metadata": {},
   "outputs": [
    {
     "data": {
      "application/vnd.jupyter.widget-view+json": {
       "model_id": "653fe80dbf354814a04f1ba6db17e00c",
       "version_major": 2,
       "version_minor": 0
      },
      "text/plain": [
       "HBox(children=(VBox(children=(VBox(children=(HBox(children=(VBox(children=(ImageWidget(height=700),)),)), VBox…"
      ]
     },
     "execution_count": 7,
     "metadata": {},
     "output_type": "execute_result"
    }
   ],
   "source": [
    "stackview.slice(output_vol, continuous_update=True)"
   ]
  },
  {
   "cell_type": "code",
   "execution_count": 8,
   "metadata": {},
   "outputs": [
    {
     "data": {
      "application/vnd.jupyter.widget-view+json": {
       "model_id": "8d79bd9143db4891a7d5f86795815398",
       "version_major": 2,
       "version_minor": 0
      },
      "text/plain": [
       "HBox(children=(VBox(children=(VBox(children=(HBox(children=(VBox(children=(ImageWidget(height=700),)),)), VBox…"
      ]
     },
     "execution_count": 8,
     "metadata": {},
     "output_type": "execute_result"
    }
   ],
   "source": [
    "stackview.slice(source_vol, continuous_update=True)"
   ]
  },
  {
   "cell_type": "code",
   "execution_count": null,
   "metadata": {},
   "outputs": [],
   "source": []
  }
 ],
 "metadata": {
  "kernelspec": {
   "display_name": "deepclarity",
   "language": "python",
   "name": "python3"
  },
  "language_info": {
   "codemirror_mode": {
    "name": "ipython",
    "version": 3
   },
   "file_extension": ".py",
   "mimetype": "text/x-python",
   "name": "python",
   "nbconvert_exporter": "python",
   "pygments_lexer": "ipython3",
   "version": "3.10.15"
  }
 },
 "nbformat": 4,
 "nbformat_minor": 2
}
